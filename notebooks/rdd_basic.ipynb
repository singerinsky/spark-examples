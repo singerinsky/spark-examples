{
 "cells": [
  {
   "cell_type": "markdown",
   "metadata": {},
   "source": [
    "## Базовые операции с RDD"
   ]
  },
  {
   "cell_type": "code",
   "execution_count": null,
   "metadata": {},
   "outputs": [],
   "source": [
    "dataset = ['Moscow', 'Madrid', 'Paris', 'Berlin', 'Barselona', 'Cairo', 'Perm']\n",
    "rdd = spark.sparkContext.parallelize(dataset)\n",
    "rdd"
   ]
  },
  {
   "cell_type": "code",
   "execution_count": null,
   "metadata": {},
   "outputs": [],
   "source": [
    "rdd.first()"
   ]
  },
  {
   "cell_type": "code",
   "execution_count": null,
   "metadata": {},
   "outputs": [],
   "source": [
    "rdd.take(2)"
   ]
  },
  {
   "cell_type": "code",
   "execution_count": null,
   "metadata": {},
   "outputs": [],
   "source": [
    "rdd\\\n",
    "    .map(lambda x: x.lower())\\\n",
    "    .first()"
   ]
  },
  {
   "cell_type": "code",
   "execution_count": null,
   "metadata": {},
   "outputs": [],
   "source": [
    "rdd\\\n",
    "    .map(lambda x: x.lower())\\\n",
    "    .collect()"
   ]
  },
  {
   "cell_type": "code",
   "execution_count": null,
   "metadata": {},
   "outputs": [],
   "source": [
    "rdd\\\n",
    "    .map(lambda x: x.lower())\\\n",
    "    .filter(lambda x: x.startswith('m'))\\\n",
    "    .collect()"
   ]
  },
  {
   "cell_type": "code",
   "execution_count": null,
   "metadata": {},
   "outputs": [],
   "source": [
    "rdd\\\n",
    "    .map(lambda x: x.lower())\\\n",
    "    .filter(lambda x: x.startswith('m'))\\\n",
    "    .map(lambda x: 'I love ' + x)\\\n",
    "    .collect()"
   ]
  },
  {
   "cell_type": "code",
   "execution_count": null,
   "metadata": {},
   "outputs": [],
   "source": [
    "rdd\\\n",
    "    .map(lambda x: x.lower())\\\n",
    "    .filter(lambda x: x.startswith('m'))\\\n",
    "    .map(lambda x: 'I love ' + x)\\\n",
    "    .map(lambda x: len(x))\\\n",
    "    .reduce(lambda x,y: x + y)"
   ]
  },
  {
   "cell_type": "code",
   "execution_count": null,
   "metadata": {},
   "outputs": [],
   "source": [
    "def first_letter(input):\n",
    "    return input[0]\n",
    "\n",
    "rdd.map(lambda x: first_letter(x)).collect()"
   ]
  },
  {
   "cell_type": "markdown",
   "metadata": {},
   "source": [
    "## PairdRDD функции"
   ]
  },
  {
   "cell_type": "code",
   "execution_count": null,
   "metadata": {},
   "outputs": [],
   "source": [
    "import json\n",
    "from pprint import pprint"
   ]
  },
  {
   "cell_type": "code",
   "execution_count": null,
   "metadata": {
    "scrolled": false
   },
   "outputs": [],
   "source": [
    "rdd = sc.textFile('../datasets/data1.json')\n",
    "rdd.first()"
   ]
  },
  {
   "cell_type": "code",
   "execution_count": null,
   "metadata": {},
   "outputs": [],
   "source": [
    "parsed = rdd.map(lambda x: json.loads(x))\n",
    "parsed.first()"
   ]
  },
  {
   "cell_type": "code",
   "execution_count": null,
   "metadata": {},
   "outputs": [],
   "source": [
    "# fails\n",
    "cities = parsed.map(lambda x: (x['name'], x['population']))\n",
    "cities.first()\n",
    "cities.count()"
   ]
  },
  {
   "cell_type": "code",
   "execution_count": null,
   "metadata": {},
   "outputs": [],
   "source": [
    "# fails\n",
    "cities = parsed.map(lambda x: (x['name'], x.get('population', 0)))\n",
    "cities.count()"
   ]
  },
  {
   "cell_type": "code",
   "execution_count": null,
   "metadata": {},
   "outputs": [],
   "source": [
    "def parse_json(data):\n",
    "    try:\n",
    "        parsed = json.loads(data)\n",
    "    except json.decoder.JSONDecodeError:\n",
    "        return (None, None)\n",
    "    else:\n",
    "        return (parsed['name'], parsed.get('population', 0))\n",
    "\n",
    "cities = rdd.map(lambda x: parse_json(x))\n",
    "cities.count()\n",
    "cities.first()"
   ]
  },
  {
   "cell_type": "code",
   "execution_count": null,
   "metadata": {},
   "outputs": [],
   "source": [
    "# fails\n",
    "population_agg = cities.reduceByKey(lambda x,y: x+y)\n",
    "population_agg.collect()"
   ]
  },
  {
   "cell_type": "code",
   "execution_count": null,
   "metadata": {},
   "outputs": [],
   "source": [
    "population_agg = cities.filter(lambda x: x[0] and x[1]).reduceByKey(lambda x,y: x+y)\n",
    "population_agg.count()\n",
    "population_agg.first()"
   ]
  },
  {
   "cell_type": "code",
   "execution_count": null,
   "metadata": {},
   "outputs": [],
   "source": [
    "population_agg.max(key=lambda x: x[1])"
   ]
  },
  {
   "cell_type": "code",
   "execution_count": null,
   "metadata": {},
   "outputs": [],
   "source": [
    "population_agg.min(key=lambda x: x[1])"
   ]
  },
  {
   "cell_type": "markdown",
   "metadata": {},
   "source": [
    "## Управление параллелизмом"
   ]
  },
  {
   "cell_type": "code",
   "execution_count": null,
   "metadata": {},
   "outputs": [],
   "source": [
    "rdd = sc.textFile('../datasets/data1.json')\n",
    "print(rdd.getNumPartitions())\n",
    "rdd.glom().collect()"
   ]
  },
  {
   "cell_type": "code",
   "execution_count": null,
   "metadata": {
    "scrolled": true
   },
   "outputs": [],
   "source": [
    "repartitioned = rdd.repartition(10)\n",
    "repartitioned.glom().collect()"
   ]
  },
  {
   "cell_type": "code",
   "execution_count": null,
   "metadata": {},
   "outputs": [],
   "source": [
    "rdd.coalesce(1).glom().collect()"
   ]
  },
  {
   "cell_type": "code",
   "execution_count": null,
   "metadata": {},
   "outputs": [],
   "source": [
    "def new_partitioner(data):\n",
    "    return len(data) % 3\n",
    "\n",
    "custom_rep = rdd\\\n",
    "    .map(lambda x: parse_json(x))\\\n",
    "    .filter(lambda x: x[0] and x[1])\\\n",
    "    .repartitionAndSortWithinPartitions(3, new_partitioner, True)\n",
    "\n",
    "custom_rep.glom().collect()"
   ]
  },
  {
   "cell_type": "markdown",
   "metadata": {},
   "source": [
    "## Кеширование и персистентность"
   ]
  },
  {
   "cell_type": "code",
   "execution_count": null,
   "metadata": {},
   "outputs": [],
   "source": [
    "from time import time"
   ]
  },
  {
   "cell_type": "code",
   "execution_count": null,
   "metadata": {},
   "outputs": [],
   "source": [
    "rdd = sc.parallelize(range(10000000))\n",
    "start = time()\n",
    "rdd.filter(lambda x: x % 2 == 0).count()\n",
    "rdd.filter(lambda x: x % 2 == 0).filter(lambda x: x % 3 == 0).count()\n",
    "rdd.filter(lambda x: x % 2 == 0).filter(lambda x: x % 3 == 0).filter(lambda x: x % 7 == 0).count()\n",
    "\n",
    "end = time()\n",
    "print('Took {}'.format(end - start))"
   ]
  },
  {
   "cell_type": "code",
   "execution_count": null,
   "metadata": {},
   "outputs": [],
   "source": [
    "rdd = sc.parallelize(range(10000000))\n",
    "start = time()\n",
    "tmp = rdd.filter(lambda x: x % 2 == 0)\n",
    "tmp.cache()\n",
    "tmp.count()\n",
    "tmp.filter(lambda x: x % 3 == 0).count()\n",
    "tmp.filter(lambda x: x % 3 == 0).filter(lambda x: x % 7 == 0).count()\n",
    "end = time()\n",
    "print('Took {}'.format(end - start))"
   ]
  },
  {
   "cell_type": "markdown",
   "metadata": {},
   "source": [
    "## Бродкасты"
   ]
  },
  {
   "cell_type": "code",
   "execution_count": null,
   "metadata": {},
   "outputs": [],
   "source": [
    "simple_list = [\"Apple\", \"Banana\", \"Orange\", \"Avocado\"]\n",
    "some_dict = {\"A\": 'foo', \"B\": 'bar', \"C\": 'meow'}\n",
    "bc_dict = sc.broadcast(some_dict)\n",
    "rdd = sc.parallelize(simple_list)\n",
    "pair_rdd = rdd.map(lambda x: (x[0], len(x)))\n",
    "mapped_rdd = pair_rdd.map(lambda x: bc_dict.value.get(x[0],'no idea'))\n",
    "mapped_rdd.take(2)"
   ]
  },
  {
   "cell_type": "markdown",
   "metadata": {},
   "source": [
    "## Остановка SparkContext"
   ]
  },
  {
   "cell_type": "code",
   "execution_count": null,
   "metadata": {},
   "outputs": [],
   "source": [
    "# Do not run until you have finished working with this notebook\n",
    "sc.stop()"
   ]
  }
 ],
 "metadata": {
  "kernelspec": {
   "display_name": "Python 3",
   "language": "python",
   "name": "python3"
  },
  "language_info": {
   "codemirror_mode": {
    "name": "ipython",
    "version": 3
   },
   "file_extension": ".py",
   "mimetype": "text/x-python",
   "name": "python",
   "nbconvert_exporter": "python",
   "pygments_lexer": "ipython3",
   "version": "3.7.4"
  }
 },
 "nbformat": 4,
 "nbformat_minor": 2
}
